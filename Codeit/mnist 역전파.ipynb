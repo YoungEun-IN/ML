{
 "cells": [
  {
   "cell_type": "code",
   "execution_count": 12,
   "id": "92c2f302",
   "metadata": {},
   "outputs": [],
   "source": [
    "# 인공 신경망 구현에 사용할 라이브러리 임포트\n",
    "import numpy as np\n",
    "import pandas as pd\n",
    "from sklearn.preprocessing import minmax_scale\n",
    "import matplotlib.pyplot as plt"
   ]
  },
  {
   "cell_type": "code",
   "execution_count": 13,
   "id": "9d3ae3fc",
   "metadata": {},
   "outputs": [],
   "source": [
    "# numpy 임의성 조절\n",
    "np.random.seed(42)"
   ]
  },
  {
   "cell_type": "code",
   "execution_count": 14,
   "id": "58cfa664",
   "metadata": {},
   "outputs": [],
   "source": [
    "# coding: utf-8\n",
    "try:\n",
    "    import urllib.request\n",
    "except ImportError:\n",
    "    raise ImportError('You should use Python 3.x')\n",
    "import os.path\n",
    "import gzip\n",
    "import pickle5 as pickle\n",
    "import os\n",
    "import numpy as np\n",
    "\n",
    "\n",
    "save_file = \"C:\\\\Users\\\\lg\\\\Downloads\\\\deep-learning-from-scratch-master\\\\common\\\\dataset\\\\mnist.pkl\"\n",
    "\n",
    "\n",
    "def _change_one_hot_label(X):\n",
    "    T = np.zeros((X.size, 10))\n",
    "    for idx, row in enumerate(T):\n",
    "        row[X[idx]] = 1\n",
    "        \n",
    "    return T\n",
    "    \n",
    "\n",
    "def load_mnist(normalize=True, flatten=True, one_hot_label=False):\n",
    "    \"\"\"MNIST 데이터셋 읽기\n",
    "    \n",
    "    Parameters\n",
    "    ----------\n",
    "    normalize : 이미지의 픽셀 값을 0.0~1.0 사이의 값으로 정규화할지 정한다.\n",
    "    one_hot_label : \n",
    "        one_hot_label이 True면、레이블을 원-핫(one-hot) 배열로 돌려준다.\n",
    "        one-hot 배열은 예를 들어 [0,0,1,0,0,0,0,0,0,0]처럼 한 원소만 1인 배열이다.\n",
    "    flatten : 입력 이미지를 1차원 배열로 만들지를 정한다. \n",
    "    \n",
    "    Returns\n",
    "    -------\n",
    "    (훈련 이미지, 훈련 레이블), (시험 이미지, 시험 레이블)\n",
    "    \"\"\"\n",
    "        \n",
    "    with open(save_file, 'rb') as f:\n",
    "        dataset = pickle.load(f)\n",
    "    \n",
    "    if normalize:\n",
    "        for key in ('train_img', 'test_img'):\n",
    "            dataset[key] = dataset[key].astype(np.float32)\n",
    "            dataset[key] /= 255.0\n",
    "            \n",
    "    if one_hot_label:\n",
    "        dataset['train_label'] = _change_one_hot_label(dataset['train_label'])\n",
    "        dataset['test_label'] = _change_one_hot_label(dataset['test_label'])    \n",
    "    \n",
    "    if not flatten:\n",
    "         for key in ('train_img', 'test_img'):\n",
    "            dataset[key] = dataset[key].reshape(-1, 1, 28, 28)\n",
    "\n",
    "    return (dataset['train_img'], dataset['train_label']), (dataset['test_img'], dataset['test_label']) \n"
   ]
  },
  {
   "cell_type": "code",
   "execution_count": 15,
   "id": "b549c8f2",
   "metadata": {},
   "outputs": [],
   "source": [
    "(x_train, t_train), (x_test, t_test) = load_mnist(normalize=True, one_hot_label=True)"
   ]
  },
  {
   "cell_type": "code",
   "execution_count": 16,
   "id": "7bfccc57",
   "metadata": {},
   "outputs": [],
   "source": [
    "def sigmoid(x):\n",
    "    \"\"\"시그모이드 함수\"\"\"\n",
    "    return 1/(1 + np.exp(-x))"
   ]
  },
  {
   "cell_type": "code",
   "execution_count": 17,
   "id": "4e9cdeb0",
   "metadata": {},
   "outputs": [],
   "source": [
    "def d_sigmoid(x):\n",
    "    \"\"\"시그모이드 미분 함수\"\"\"\n",
    "    return (np.exp(-x))/((np.exp(-x)+1)**2)"
   ]
  },
  {
   "cell_type": "code",
   "execution_count": 18,
   "id": "ea3404d8",
   "metadata": {},
   "outputs": [],
   "source": [
    "def initialize_parameters(nodes_per_layer):\n",
    "    \"\"\"신경망의 가중치와 편향을 초기화해주는 함수\"\"\"\n",
    "    L = len(nodes_per_layer) - 1  # 층 개수 저장\n",
    "    parameters = {}\n",
    "    \n",
    "    # 1층 부터 L 층까지 돌면서 가중치와 편향 초기화\n",
    "    for l in range(1, L+1):\n",
    "        parameters['W' + str(l)] = np.random.randn(nodes_per_layer[l], nodes_per_layer[l-1]) * np.sqrt(1. / nodes_per_layer[l])\n",
    "        parameters['b' + str(l)] = np.random.randn(nodes_per_layer[l]) * np.sqrt(1. / nodes_per_layer[l])   \n",
    "    return parameters"
   ]
  },
  {
   "cell_type": "code",
   "execution_count": 19,
   "id": "4df092db",
   "metadata": {},
   "outputs": [],
   "source": [
    "def feed_forward(x, parameters):\n",
    "    \"\"\"순전파 함수\"\"\"\n",
    "    cache = {'a0': x}  # 0 번째 층 출력 저장\n",
    "    L = len(parameters) // 2  # 층 수 저장\n",
    "    \n",
    "    for l in range(1, L+1):\n",
    "        # 전 층 뉴런의 출력, 현재 층 뉴런들의 가중치, 편향 데이터를 가지고 온다. (코드를 쓰세요)\n",
    "        a_prev = cache['a'+str(l-1)]\n",
    "        W = parameters['W'+str(l)]\n",
    "        b = parameters['b'+str(l)]\n",
    "        \n",
    "        # 가지고 온 데이터로 z와 a를 계산한다. (코드를 쓰세요)\n",
    "        z = W@a_prev + b\n",
    "        a = sigmoid(z)\n",
    "\n",
    "        # 결과 값을 캐시에 저장한다.\n",
    "        cache['z' + str(l)] = z\n",
    "        cache['a' + str(l)] = a           \n",
    "    return a, cache"
   ]
  },
  {
   "cell_type": "code",
   "execution_count": 20,
   "id": "2247fd9f",
   "metadata": {},
   "outputs": [],
   "source": [
    "def compute_accuracy(x_val, y_val, parameters):\n",
    "    #print(parameters)\n",
    "    \"\"\"테스트 데이터에서 예측값들의 성능을 계산하는 함수\"\"\"\n",
    "    predictions = []\n",
    "\n",
    "    for x, y in zip(x_val, y_val):\n",
    "        output, _ = feed_forward(x, parameters)\n",
    "        pred = np.argmax(output)\n",
    "        predictions.append(pred == np.argmax(y))\n",
    "    return np.mean(predictions)"
   ]
  },
  {
   "cell_type": "code",
   "execution_count": 21,
   "id": "af59d514",
   "metadata": {},
   "outputs": [],
   "source": [
    "def compute_loss(x_val, y_val, parameters):\n",
    "    \"\"\"학습 데이터에서 현재 모델의 손실을 계산하는 함수\"\"\"\n",
    "    loss = 0\n",
    "    \n",
    "    for x, y in zip(x_val, y_val):\n",
    "        output, _ = feed_forward(x, parameters)\n",
    "        loss += np.mean((output - y)**2) / 2\n",
    "        \n",
    "    return loss / len(x_val)"
   ]
  },
  {
   "cell_type": "code",
   "execution_count": 22,
   "id": "0d1d6d30",
   "metadata": {},
   "outputs": [],
   "source": [
    "def back_prop(prediction, y, cache, parameters):\n",
    "    \"\"\"역전파 함수\"\"\"\n",
    "    gradients = {}\n",
    "    L = len(cache) // 2\n",
    "    da = (prediction - y) / y.shape[0]\n",
    "    \n",
    "    for layer in range(L, 0, -1):\n",
    "        # 역전파 행렬 연산을 사용해서 각 요소에 대한 편미분 계산\n",
    "        # 코드를 쓰세요\n",
    "        db=d_sigmoid(cache['z'+str(layer)]) * da\n",
    "        dW=np.outer(db, cache['a'+str(layer-1)])\n",
    "        da = parameters['W' + str(layer)].T @ db\n",
    "        \n",
    "        \n",
    "        # 계산한 편미분 값들을 저장\n",
    "        gradients['dW' + str(layer)] = dW\n",
    "        gradients['db' + str(layer)] = db\n",
    "    \n",
    "    # 계산한 편미분 값들 리턴\n",
    "    return gradients"
   ]
  },
  {
   "cell_type": "code",
   "execution_count": 23,
   "id": "4a9cc73f",
   "metadata": {},
   "outputs": [],
   "source": [
    "def update(parameters, gradients, alpha, m):\n",
    "    \"\"\"계산한 경사로 가중치와 편향을 업데이트 하는 함수\"\"\"\n",
    "    L = len(parameters) // 2\n",
    "    \n",
    "    for layer in range(1, L+1):\n",
    "        parameters['W'+str(layer)] -= alpha * gradients['dW'+str(layer)] / m\n",
    "        parameters['b'+str(layer)] -= alpha * gradients['db'+str(layer)] / m\n",
    "    \n",
    "    return parameters"
   ]
  },
  {
   "cell_type": "code",
   "execution_count": 24,
   "id": "2c46c720",
   "metadata": {},
   "outputs": [],
   "source": [
    "def train_nn(X_train, Y_train, X_test, Y_test, neurons_per_layer, epoch, alpha):\n",
    "    \"\"\"신경망을 학습시키는 함수\"\"\"\n",
    "    parameters = initialize_parameters(neurons_per_layer)\n",
    "    loss_list = []\n",
    "    m = X_train.shape[0]\n",
    "    \n",
    "    # epoch 번 경사 하강을 한다\n",
    "    for i in range(epoch):\n",
    "        parameters_copy = parameters.copy()\n",
    "        \n",
    "        # 모든 이미지에 대해서 경사 계산 후 평균 계산\n",
    "        for x, y in zip(X_train, Y_train):\n",
    "            prediction, cache = feed_forward(x, parameters)\n",
    "            gradients = back_prop(prediction, y, cache, parameters)\n",
    "            parameters_copy = update(parameters_copy, gradients, alpha, m)\n",
    "        \n",
    "        # 가중치와 편향 실제로 업데이트\n",
    "        parameters = parameters_copy\n",
    "        loss_list.append(compute_loss(X_train, Y_train, parameters))\n",
    "        print('{}번째 경사 하강, 테스트 셋에서 성능: {}'.format(i+1, round(compute_accuracy(X_test, Y_test, parameters), 2)))     \n",
    "            \n",
    "    return loss_list, parameters"
   ]
  },
  {
   "cell_type": "code",
   "execution_count": 26,
   "id": "c385b49a",
   "metadata": {
    "scrolled": true
   },
   "outputs": [
    {
     "name": "stdout",
     "output_type": "stream",
     "text": [
      "1번째 경사 하강, 테스트 셋에서 성능: 0.36\n",
      "2번째 경사 하강, 테스트 셋에서 성능: 0.43\n",
      "3번째 경사 하강, 테스트 셋에서 성능: 0.57\n",
      "4번째 경사 하강, 테스트 셋에서 성능: 0.67\n",
      "5번째 경사 하강, 테스트 셋에서 성능: 0.73\n",
      "6번째 경사 하강, 테스트 셋에서 성능: 0.77\n",
      "7번째 경사 하강, 테스트 셋에서 성능: 0.8\n",
      "8번째 경사 하강, 테스트 셋에서 성능: 0.82\n",
      "9번째 경사 하강, 테스트 셋에서 성능: 0.84\n",
      "10번째 경사 하강, 테스트 셋에서 성능: 0.85\n",
      "11번째 경사 하강, 테스트 셋에서 성능: 0.86\n",
      "12번째 경사 하강, 테스트 셋에서 성능: 0.87\n",
      "13번째 경사 하강, 테스트 셋에서 성능: 0.87\n",
      "14번째 경사 하강, 테스트 셋에서 성능: 0.88\n",
      "15번째 경사 하강, 테스트 셋에서 성능: 0.88\n",
      "16번째 경사 하강, 테스트 셋에서 성능: 0.89\n",
      "17번째 경사 하강, 테스트 셋에서 성능: 0.89\n",
      "18번째 경사 하강, 테스트 셋에서 성능: 0.89\n",
      "19번째 경사 하강, 테스트 셋에서 성능: 0.89\n",
      "20번째 경사 하강, 테스트 셋에서 성능: 0.89\n",
      "21번째 경사 하강, 테스트 셋에서 성능: 0.9\n",
      "22번째 경사 하강, 테스트 셋에서 성능: 0.9\n",
      "23번째 경사 하강, 테스트 셋에서 성능: 0.9\n",
      "24번째 경사 하강, 테스트 셋에서 성능: 0.9\n",
      "25번째 경사 하강, 테스트 셋에서 성능: 0.9\n",
      "26번째 경사 하강, 테스트 셋에서 성능: 0.9\n",
      "27번째 경사 하강, 테스트 셋에서 성능: 0.9\n",
      "28번째 경사 하강, 테스트 셋에서 성능: 0.9\n",
      "29번째 경사 하강, 테스트 셋에서 성능: 0.91\n",
      "30번째 경사 하강, 테스트 셋에서 성능: 0.91\n",
      "31번째 경사 하강, 테스트 셋에서 성능: 0.91\n",
      "32번째 경사 하강, 테스트 셋에서 성능: 0.91\n",
      "33번째 경사 하강, 테스트 셋에서 성능: 0.91\n",
      "34번째 경사 하강, 테스트 셋에서 성능: 0.91\n",
      "35번째 경사 하강, 테스트 셋에서 성능: 0.91\n",
      "36번째 경사 하강, 테스트 셋에서 성능: 0.91\n",
      "37번째 경사 하강, 테스트 셋에서 성능: 0.91\n",
      "38번째 경사 하강, 테스트 셋에서 성능: 0.91\n",
      "39번째 경사 하강, 테스트 셋에서 성능: 0.91\n",
      "40번째 경사 하강, 테스트 셋에서 성능: 0.91\n",
      "41번째 경사 하강, 테스트 셋에서 성능: 0.92\n",
      "42번째 경사 하강, 테스트 셋에서 성능: 0.92\n",
      "43번째 경사 하강, 테스트 셋에서 성능: 0.92\n",
      "44번째 경사 하강, 테스트 셋에서 성능: 0.92\n",
      "45번째 경사 하강, 테스트 셋에서 성능: 0.92\n",
      "46번째 경사 하강, 테스트 셋에서 성능: 0.92\n",
      "47번째 경사 하강, 테스트 셋에서 성능: 0.92\n",
      "48번째 경사 하강, 테스트 셋에서 성능: 0.92\n",
      "49번째 경사 하강, 테스트 셋에서 성능: 0.92\n",
      "50번째 경사 하강, 테스트 셋에서 성능: 0.92\n",
      "51번째 경사 하강, 테스트 셋에서 성능: 0.92\n",
      "52번째 경사 하강, 테스트 셋에서 성능: 0.92\n",
      "53번째 경사 하강, 테스트 셋에서 성능: 0.92\n",
      "54번째 경사 하강, 테스트 셋에서 성능: 0.92\n",
      "55번째 경사 하강, 테스트 셋에서 성능: 0.92\n",
      "56번째 경사 하강, 테스트 셋에서 성능: 0.92\n",
      "57번째 경사 하강, 테스트 셋에서 성능: 0.92\n",
      "58번째 경사 하강, 테스트 셋에서 성능: 0.92\n",
      "59번째 경사 하강, 테스트 셋에서 성능: 0.92\n",
      "60번째 경사 하강, 테스트 셋에서 성능: 0.92\n",
      "61번째 경사 하강, 테스트 셋에서 성능: 0.92\n",
      "62번째 경사 하강, 테스트 셋에서 성능: 0.93\n",
      "63번째 경사 하강, 테스트 셋에서 성능: 0.93\n",
      "64번째 경사 하강, 테스트 셋에서 성능: 0.93\n",
      "65번째 경사 하강, 테스트 셋에서 성능: 0.93\n",
      "66번째 경사 하강, 테스트 셋에서 성능: 0.93\n",
      "67번째 경사 하강, 테스트 셋에서 성능: 0.93\n",
      "68번째 경사 하강, 테스트 셋에서 성능: 0.93\n",
      "69번째 경사 하강, 테스트 셋에서 성능: 0.93\n",
      "70번째 경사 하강, 테스트 셋에서 성능: 0.93\n",
      "71번째 경사 하강, 테스트 셋에서 성능: 0.93\n",
      "72번째 경사 하강, 테스트 셋에서 성능: 0.93\n",
      "73번째 경사 하강, 테스트 셋에서 성능: 0.93\n",
      "74번째 경사 하강, 테스트 셋에서 성능: 0.93\n",
      "75번째 경사 하강, 테스트 셋에서 성능: 0.93\n",
      "76번째 경사 하강, 테스트 셋에서 성능: 0.93\n",
      "77번째 경사 하강, 테스트 셋에서 성능: 0.93\n",
      "78번째 경사 하강, 테스트 셋에서 성능: 0.93\n",
      "79번째 경사 하강, 테스트 셋에서 성능: 0.93\n",
      "80번째 경사 하강, 테스트 셋에서 성능: 0.93\n",
      "81번째 경사 하강, 테스트 셋에서 성능: 0.93\n",
      "82번째 경사 하강, 테스트 셋에서 성능: 0.93\n",
      "83번째 경사 하강, 테스트 셋에서 성능: 0.93\n",
      "84번째 경사 하강, 테스트 셋에서 성능: 0.93\n",
      "85번째 경사 하강, 테스트 셋에서 성능: 0.93\n",
      "86번째 경사 하강, 테스트 셋에서 성능: 0.93\n",
      "87번째 경사 하강, 테스트 셋에서 성능: 0.93\n",
      "88번째 경사 하강, 테스트 셋에서 성능: 0.93\n",
      "89번째 경사 하강, 테스트 셋에서 성능: 0.93\n",
      "90번째 경사 하강, 테스트 셋에서 성능: 0.93\n",
      "91번째 경사 하강, 테스트 셋에서 성능: 0.93\n",
      "92번째 경사 하강, 테스트 셋에서 성능: 0.93\n",
      "93번째 경사 하강, 테스트 셋에서 성능: 0.93\n",
      "94번째 경사 하강, 테스트 셋에서 성능: 0.93\n",
      "95번째 경사 하강, 테스트 셋에서 성능: 0.93\n",
      "96번째 경사 하강, 테스트 셋에서 성능: 0.93\n",
      "97번째 경사 하강, 테스트 셋에서 성능: 0.93\n",
      "98번째 경사 하강, 테스트 셋에서 성능: 0.93\n",
      "99번째 경사 하강, 테스트 셋에서 성능: 0.93\n",
      "100번째 경사 하강, 테스트 셋에서 성능: 0.93\n"
     ]
    }
   ],
   "source": [
    "# 실행 코드\n",
    "neurons_per_layer = [784, 128, 64, 10]\n",
    "parameters = initialize_parameters(neurons_per_layer)\n",
    "\n",
    "loss_list, parameters = train_nn(x_train, t_train, x_test, t_test, neurons_per_layer, 100, 300)"
   ]
  },
  {
   "cell_type": "code",
   "execution_count": 27,
   "id": "de5b1ab1",
   "metadata": {},
   "outputs": [
    {
     "data": {
      "image/png": "[encoded data removed]",
      "text/plain": [
       "<Figure size 432x288 with 1 Axes>"
      ]
     },
     "metadata": {
      "needs_background": "light"
     },
     "output_type": "display_data"
    }
   ],
   "source": [
    "plt.plot(loss_list)\n",
    "plt.show()"
   ]
  },
  {
   "cell_type": "code",
   "execution_count": null,
   "id": "00390884",
   "metadata": {},
   "outputs": [],
   "source": []
  }
 ],
 "metadata": {
  "kernelspec": {
   "display_name": "Python 3",
   "language": "python",
   "name": "python3"
  },
  "language_info": {
   "codemirror_mode": {
    "name": "ipython",
    "version": 3
   },
   "file_extension": ".py",
   "mimetype": "text/x-python",
   "name": "python",
   "nbconvert_exporter": "python",
   "pygments_lexer": "ipython3",
   "version": "3.6.13"
  }
 },
 "nbformat": 4,
 "nbformat_minor": 5
}
