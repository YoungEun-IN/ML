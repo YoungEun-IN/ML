{
 "cells": [
  {
   "cell_type": "code",
   "execution_count": 95,
   "id": "1305f9b6",
   "metadata": {},
   "outputs": [],
   "source": [
    "# 필요한 라이브러리 import\n",
    "from sklearn import datasets\n",
    "from sklearn.model_selection import train_test_split\n",
    "from sklearn.linear_model import LinearRegression\n",
    "from sklearn.metrics import mean_squared_error\n",
    "\n",
    "import pandas as pd  "
   ]
  },
  {
   "cell_type": "code",
   "execution_count": 96,
   "id": "f57e197c",
   "metadata": {},
   "outputs": [],
   "source": [
    "# 당뇨병 데이터 갖고 오기\n",
    "diabetes_dataset = datasets.load_diabetes()"
   ]
  },
  {
   "cell_type": "code",
   "execution_count": 97,
   "id": "b6a32627",
   "metadata": {},
   "outputs": [],
   "source": [
    "# 입력 변수를 사용하기 편하게 pandas dataframe으로 변환\n",
    "X = pd.DataFrame(diabetes_dataset.data, columns=diabetes_dataset.feature_names)\n",
    "\n",
    "# 목표 변수를 사용하기 편하게 pandas dataframe으로 변환\n",
    "y = pd.DataFrame(diabetes_dataset.target, columns=['diabetes'])"
   ]
  },
  {
   "cell_type": "code",
   "execution_count": 98,
   "id": "d55771fb",
   "metadata": {},
   "outputs": [],
   "source": [
    "# train_test_split를 사용해서 주어진 데이터를 학습, 테스트 데이터로 나눈다\n",
    "X_train, X_test, y_train, y_test = train_test_split(X, y, test_size = 0.2, random_state=5)"
   ]
  },
  {
   "cell_type": "code",
   "execution_count": 99,
   "id": "bedae658",
   "metadata": {},
   "outputs": [
    {
     "data": {
      "text/plain": [
       "LinearRegression(copy_X=True, fit_intercept=True, n_jobs=None, normalize=False)"
      ]
     },
     "execution_count": 99,
     "metadata": {},
     "output_type": "execute_result"
    }
   ],
   "source": [
    "model = LinearRegression()  # 선형 회귀 모델을 가지고 오고 \n",
    "model.fit(X_train, y_train)  # 학습 데이터를 이용해서 모델을 학습 시킨다"
   ]
  },
  {
   "cell_type": "code",
   "execution_count": 100,
   "id": "c6610c1a",
   "metadata": {},
   "outputs": [],
   "source": [
    "y_train_predict=model.predict(X_train)"
   ]
  },
  {
   "cell_type": "code",
   "execution_count": 101,
   "id": "11368822",
   "metadata": {},
   "outputs": [
    {
     "data": {
      "text/plain": [
       "53.33849884829917"
      ]
     },
     "execution_count": 101,
     "metadata": {},
     "output_type": "execute_result"
    }
   ],
   "source": [
    "mse = mean_squared_error(y_train, y_train_predict)\n",
    "\n",
    "mse ** 0.5"
   ]
  },
  {
   "cell_type": "code",
   "execution_count": 102,
   "id": "d2f75d11",
   "metadata": {},
   "outputs": [],
   "source": [
    "y_test_predict = model.predict(X_test)  # 학습시킨 모델로 예측"
   ]
  },
  {
   "cell_type": "code",
   "execution_count": 103,
   "id": "7b32e4f5",
   "metadata": {},
   "outputs": [
    {
     "data": {
      "text/plain": [
       "54.603896119844435"
      ]
     },
     "execution_count": 103,
     "metadata": {},
     "output_type": "execute_result"
    }
   ],
   "source": [
    "mse = mean_squared_error(y_test, y_test_predict)\n",
    "\n",
    "mse ** 0.5"
   ]
  }
 ],
 "metadata": {
  "kernelspec": {
   "display_name": "Python 3",
   "language": "python",
   "name": "python3"
  },
  "language_info": {
   "codemirror_mode": {
    "name": "ipython",
    "version": 3
   },
   "file_extension": ".py",
   "mimetype": "text/x-python",
   "name": "python",
   "nbconvert_exporter": "python",
   "pygments_lexer": "ipython3",
   "version": "3.6.13"
  }
 },
 "nbformat": 4,
 "nbformat_minor": 5
}
