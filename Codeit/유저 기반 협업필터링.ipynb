{
 "cells": [
  {
   "cell_type": "code",
   "execution_count": 10,
   "id": "fe5075f4",
   "metadata": {},
   "outputs": [],
   "source": [
    "import pandas as pd\n",
    "import numpy as np\n",
    "from math import sqrt"
   ]
  },
  {
   "cell_type": "code",
   "execution_count": 11,
   "id": "5dad3ba0",
   "metadata": {},
   "outputs": [],
   "source": [
    "RATING_DATA_PATH = './datasets/ratings.csv'  # 받아올 평점 데이터 경로 정의"
   ]
  },
  {
   "cell_type": "code",
   "execution_count": 12,
   "id": "7a3b4d5b",
   "metadata": {},
   "outputs": [],
   "source": [
    "np.set_printoptions(precision=2)  # 소수점 둘째 자리까지만 출력"
   ]
  },
  {
   "cell_type": "code",
   "execution_count": 13,
   "id": "16b65c79",
   "metadata": {},
   "outputs": [],
   "source": [
    "def distance(user_1, user_2):\n",
    "    \"\"\"유클리드 거리를 계산해주는 함수\"\"\"\n",
    "    return sqrt(np.sum((user_1 - user_2)**2))"
   ]
  },
  {
   "cell_type": "code",
   "execution_count": 14,
   "id": "b1fdfa6b",
   "metadata": {},
   "outputs": [],
   "source": [
    "def filter_users_without_movie(rating_data, movie_id):\n",
    "    \"\"\"movie_id 번째 영화를 평가하지 않은 유저들은 미리 제외해주는 함수\"\"\"\n",
    "    return rating_data[~np.isnan(rating_data[:,movie_id])]"
   ]
  },
  {
   "cell_type": "code",
   "execution_count": 15,
   "id": "e7d8bd82",
   "metadata": {},
   "outputs": [],
   "source": [
    "def fill_nan_with_user_mean(rating_data):\n",
    "    \"\"\"평점 데이터의 빈값들을 각 유저 평균 값으로 체워주는 함수\"\"\"\n",
    "    filled_data = np.copy(rating_data)  # 평점 데이터를 훼손하지 않기 위해 복사\n",
    "    row_mean = np.nanmean(filled_data, axis=0)  # 유저 평균 평점 계산\n",
    "    \n",
    "    inds = np.where(np.isnan(filled_data))  # 비어 있는 인덱스들을 구한다\n",
    "    filled_data[inds] = np.take(row_mean, inds[1])  #빈 인덱스를 유저 평점으로 채운다\n",
    "    \n",
    "    return filled_data"
   ]
  },
  {
   "cell_type": "code",
   "execution_count": 16,
   "id": "9bec1618",
   "metadata": {},
   "outputs": [],
   "source": [
    "def get_k_neighbors(user_id, rating_data, k):\n",
    "    \"\"\"user_id에 해당하는 유저의 이웃들을 찾아주는 함수\"\"\"\n",
    "    distance_data = np.copy(rating_data)  # 평점 데이터를 훼손하지 않기 위해 복사\n",
    "    # 마지막에 거리 데이터를 담을 열 추가한다\n",
    "    distance_data = np.append(distance_data, np.zeros((distance_data.shape[0], 1)), axis=1)\n",
    "    \n",
    "    # 코드를 쓰세요.\n",
    "    for i in range(len(distance_data)):\n",
    "        row = distance_data[i]\n",
    "        \n",
    "        if i == user_id:  # 같은 유저면 거리를 무한대로 설정\n",
    "            row[-1] = np.inf\n",
    "        else:  # 다른 유저면 마지막 열에 거리 데이터를 저장\n",
    "            row[-1] = distance(distance_data[user_id][:-1], row[:-1])\n",
    "    \n",
    "    # 데이터를 거리 열을 기준으로 정렬한다\n",
    "    distance_data = distance_data[np.argsort(distance_data[:, -1])]\n",
    "    \n",
    "    # 가장 가까운 k개의 행만 리턴한다 + 마지막(거리) 열은 제외한다\n",
    "    return distance_data[:k, :-1]"
   ]
  },
  {
   "cell_type": "code",
   "execution_count": 17,
   "id": "546a94c3",
   "metadata": {},
   "outputs": [],
   "source": [
    "def predict_user_rating(rating_data, k, user_id, movie_id,):\n",
    "    \"\"\"예측 행렬에 따라 유저의 영화 평점 예측 값 구하기\"\"\"\n",
    "    # movie_id 번째 영화를 보지 않은 유저를 데이터에서 미리 제외시킨다\n",
    "    filtered_data = filter_users_without_movie(rating_data, movie_id)\n",
    "    # 빈값들이 채워진 새로운 행렬을 만든다\n",
    "    filled_data = fill_nan_with_user_mean(filtered_data)\n",
    "    # 유저 user_id와 비슷한 k개의 유저 데이터를 찾는다\n",
    "    neighbors = get_k_neighbors(user_id, filled_data, k)\n",
    "    \n",
    "    # 코드를 쓰세요\n",
    "    return np.mean(neighbors[:,movie_id])"
   ]
  },
  {
   "cell_type": "code",
   "execution_count": 18,
   "id": "d33ad6ef",
   "metadata": {},
   "outputs": [
    {
     "data": {
      "text/plain": [
       "4.0"
      ]
     },
     "execution_count": 18,
     "metadata": {},
     "output_type": "execute_result"
    }
   ],
   "source": [
    "# 실행 코드   \n",
    "# 평점 데이터를 불러온다\n",
    "rating_data = pd.read_csv(RATING_DATA_PATH, index_col='user_id').values\n",
    "# 5개의 이웃들을 써서 유저 0의 영화 3에 대한 예측 평점 구하기\n",
    "predict_user_rating(rating_data, 5, 0, 3)  "
   ]
  }
 ],
 "metadata": {
  "kernelspec": {
   "display_name": "Python 3",
   "language": "python",
   "name": "python3"
  },
  "language_info": {
   "codemirror_mode": {
    "name": "ipython",
    "version": 3
   },
   "file_extension": ".py",
   "mimetype": "text/x-python",
   "name": "python",
   "nbconvert_exporter": "python",
   "pygments_lexer": "ipython3",
   "version": "3.6.13"
  }
 },
 "nbformat": 4,
 "nbformat_minor": 5
}
