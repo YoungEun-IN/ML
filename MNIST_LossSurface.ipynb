{
  "nbformat": 4,
  "nbformat_minor": 0,
  "metadata": {
    "kernelspec": {
      "display_name": "Python 3",
      "language": "python",
      "name": "python3"
    },
    "language_info": {
      "codemirror_mode": {
        "name": "ipython",
        "version": 3
      },
      "file_extension": ".py",
      "mimetype": "text/x-python",
      "name": "python",
      "nbconvert_exporter": "python",
      "pygments_lexer": "ipython3",
      "version": "3.7.4"
    },
    "colab": {
      "name": "1_MNIST_LossSurface.ipynb",
      "provenance": []
    }
  },
  "cells": [
    {
      "cell_type": "markdown",
      "metadata": {
        "id": "dqBIyqDxvVIW"
      },
      "source": [
        "## 1. 라이브러리 임폴트"
      ]
    },
    {
      "cell_type": "code",
      "metadata": {
        "id": "PGgZN9wuvVIX"
      },
      "source": [
        "from __future__ import division\n",
        "import time\n",
        "import pickle\n",
        "import gzip\n",
        "from random import randint\n",
        "from scipy import misc\n",
        "from scipy import special\n",
        "import numpy as np\n",
        "import matplotlib.pyplot as plt\n",
        "# Loss Surface Visualization\n",
        "from mpl_toolkits.mplot3d import Axes3D\n",
        "import collections\n",
        "%matplotlib inline "
      ],
      "execution_count": 10,
      "outputs": []
    },
    {
      "cell_type": "markdown",
      "metadata": {
        "id": "IYAsJOFCvVIa"
      },
      "source": [
        "## 2. 데이터 불러오기\n",
        "###  2-1. 학습 데이터\n",
        "\n",
        "#### TRAINING  (list) \n",
        "<ul>\n",
        "    <li>TRAINING[0] : (60000, 784) ndarray of data</li>\n",
        "    <li>TRAINING[1] : (60000, ) vector of label</li>\n",
        "</ul>\n",
        "\n",
        "\n",
        "###  2-2. 테스트 데이터\n",
        "\n",
        "#### TESTING  (list) \n",
        "<ul>\n",
        "    <li>TESTING[0] : (10000, 784) ndarray of data</li>\n",
        "    <li>TESTING[1] : (10000, ) vector of label</li>\n",
        "</ul>"
      ]
    },
    {
      "cell_type": "code",
      "metadata": {
        "id": "zRaqDmyjvVIa",
        "colab": {
          "base_uri": "https://localhost:8080/"
        },
        "outputId": "25ef179d-7358-4e33-aade-7c0fc6d518fc"
      },
      "source": [
        "START_TIME = time.time()\n",
        "ft = gzip.open('/data_training', 'rb')\n",
        "TRAINING = pickle.load(ft)\n",
        "ft.close()\n",
        "\n",
        "ft = gzip.open('/data_testing', 'rb')\n",
        "TESTING = pickle.load(ft)\n",
        "ft.close()\n",
        "\n",
        "print('Import duration '+str(round((time.time() - START_TIME), 2))+'s')\n",
        "print('----')"
      ],
      "execution_count": 11,
      "outputs": [
        {
          "output_type": "stream",
          "text": [
            "Import duration 3.04s\n",
            "----\n"
          ],
          "name": "stdout"
        }
      ]
    },
    {
      "cell_type": "code",
      "metadata": {
        "id": "Qhx6qWKtvVIf",
        "colab": {
          "base_uri": "https://localhost:8080/",
          "height": 265
        },
        "outputId": "270dc279-1373-4354-9aaa-16fdc0c78d90"
      },
      "source": [
        "_ = plt.imshow(TESTING[0][0].reshape((28,28)), cmap=plt.cm.Greys)"
      ],
      "execution_count": 12,
      "outputs": [
        {
          "output_type": "display_data",
          "data": {
            "image/png": "[encoded data removed]",
            "text/plain": [
              "<Figure size 432x288 with 1 Axes>"
            ]
          },
          "metadata": {
            "tags": [],
            "needs_background": "light"
          }
        }
      ]
    },
    {
      "cell_type": "code",
      "metadata": {
        "id": "ynAivpq7vVIi",
        "colab": {
          "base_uri": "https://localhost:8080/",
          "height": 445
        },
        "outputId": "8ffa3f2e-c5b5-4c1d-c68e-1273533dfc45"
      },
      "source": [
        "n_bins = 10\n",
        "_ = plt.hist(TESTING[0][0], bins=n_bins, color=\"black\")\n",
        "for i in range(len(_[0])):\n",
        "    print(\"%.1f ~ %.1f: %d\"%(i/10, i/10 +0.1, _[0][i]))\n"
      ],
      "execution_count": 13,
      "outputs": [
        {
          "output_type": "stream",
          "text": [
            "0.0 ~ 0.1: 679\n",
            "0.1 ~ 0.2: 6\n",
            "0.2 ~ 0.3: 18\n",
            "0.3 ~ 0.4: 3\n",
            "0.4 ~ 0.5: 7\n",
            "0.5 ~ 0.6: 5\n",
            "0.6 ~ 0.7: 4\n",
            "0.7 ~ 0.8: 11\n",
            "0.8 ~ 0.9: 11\n",
            "0.9 ~ 1.0: 40\n"
          ],
          "name": "stdout"
        },
        {
          "output_type": "display_data",
          "data": {
            "image/png": "[encoded data removed]",
            "text/plain": [
              "<Figure size 432x288 with 1 Axes>"
            ]
          },
          "metadata": {
            "tags": [],
            "needs_background": "light"
          }
        }
      ]
    },
    {
      "cell_type": "code",
      "metadata": {
        "id": "a8ggOfUDvVIk"
      },
      "source": [
        "# 신경망 코드 출처 : https://github.com/louisjc/mnist-neural-network"
      ],
      "execution_count": 14,
      "outputs": []
    },
    {
      "cell_type": "markdown",
      "metadata": {
        "id": "oYYfUBr9vVIm"
      },
      "source": [
        "## 3. 신경망 생성\n",
        "\n",
        "#### __init__ : 학습 파라미터를 초기화 함. \n",
        "\n",
        "<ul>\n",
        "    <li>input_size: 입력 데이터 크기 (ex. 784)</li>\n",
        "    <li>output_size: 출력 데이터 크기 (ex. 10)</li>\n",
        "    <li>num_hidden: 은닉 노드의 수 (ex. 300)</li>\n",
        "    <li>best: 가장 낮은 accuracy 를 기준으로 best accuracy 를 업데이트 함. (목표 정확도: .97)</li>\n",
        "    <li>same: accuracy 가 높아지지 않는 횟수를 카운트 하여, 특정 이상이 되면 학습을 중단함. (10)</li>\n",
        "    <li>layers(list) : 은닉층의 학습 파라미터 행렬의 집합으로써, 작은 값의 가중치로 초기화됨. \n",
        "        <ul>\n",
        "            <li>h1 : (300,785) matrix of random weights</li>\n",
        "            <li>h2 : (10,301) matrix of random weights</li>\n",
        "        </ul>\n",
        "    </li>\n",
        "    <li>iteration: 이터레이션 카운트</li>\n",
        "</ul> \n",
        "\n",
        "#### train  : 학습하는 메인 코드\n",
        "#### feed_forward : 순전파\n",
        "<ul>\n",
        "    <li>hidden_outputs: (300,) vector after inner product of (300, 785) and (785, 1)</li>\n",
        "    <li>outputs: (10,) vector after inner product of (10, 301) and (301, 1)</li>\n",
        "</ul>\n",
        "\n",
        "#### backpropagate : 역전파 \n",
        "#### predict : 순전파 진행함.\n",
        "\n",
        "#### predict_one : 하나의 인풋에 대한 예측한 라벨을 리턴함.\n",
        "#### sauv : 최적화된 파라미터를 저장함.\n",
        "#### load : 기존 학습된 파라미터를 로드함.\n",
        "#### accu : 정확도를 계산함.\n",
        "<ul>\n",
        "<li>가장 낮은 성능을 보인 성과를 퍼센트로 반환</li>\n",
        "<li>배치의 평균적인 성능을 퍼센트로 반환</li>\n",
        "<li>가장 낮은 성능을 보인 인덱스를 반환</li>\n",
        "</ul>"
      ]
    },
    {
      "cell_type": "code",
      "metadata": {
        "id": "OKQdLvWpvVIn"
      },
      "source": [
        "class Network:\n",
        "\n",
        "    def __init__(self, num_hidden):\n",
        "        self.input_size = 784\n",
        "        self.output_size = 10\n",
        "        self.num_hidden = num_hidden\n",
        "        self.best = 0.\n",
        "        self.same = 0\n",
        "\n",
        "        # Standardize random weights\n",
        "        np.random.seed(0)\n",
        "        hidden_layer = np.random.rand(self.num_hidden, self.input_size + 1) / self.num_hidden\n",
        "        output_layer = np.random.rand(self.output_size, self.num_hidden + 1) / self.output_size\n",
        "        self.layers = [hidden_layer, output_layer]\n",
        "        self.iteration = 0.\n",
        "\n",
        "        print('Initialization with random weight')\n",
        "        print('-----')\n",
        "\n",
        "    def train(self, batchsize, training):\n",
        "        start_time = time.time()\n",
        "        print('Network training with '+str(batchsize)+' examples')\n",
        "        print('Until convergence (10 iterations without improvements)')\n",
        "        print('-----')\n",
        "        \n",
        "        inputs = training[0][0:batchsize]\n",
        "        targets = np.zeros((batchsize, 10))\n",
        "        for i in range(batchsize):\n",
        "            targets[i, training[1][i]] = 1\n",
        "\n",
        "        while self.same < 10:\n",
        "            for input_vector, target_vector in zip(inputs, targets):\n",
        "                self.backpropagate(input_vector, target_vector)\n",
        "            \n",
        "            # Messages and backups\n",
        "            self.iteration += 1.\n",
        "            accu = self.accu(TESTING)\n",
        "            message = 'Iteration '+str(int(self.iteration)).zfill(2) + \\\n",
        "                ' (' + str(round(time.time()-start_time)).zfill(2)+'s) '\n",
        "            message += 'Precision G:'+str(accu[1]).zfill(4)+'% Min:'+ \\\n",
        "                str(accu[0]).zfill(4)+ '% ('+str(int(accu[2]))+')'\n",
        "            if accu[0] > self.best:\n",
        "                self.same = 0\n",
        "                self.best = accu[0]\n",
        "                message += ' R'\n",
        "                if accu[0] > 77:\n",
        "                    self.sauv(file_name='ntMIN_'+str(accu))\n",
        "                    message += 'S'\n",
        "            else:\n",
        "                self.same += 1\n",
        "            print(message)\n",
        "        # Final message\n",
        "        print('10 Iterations without improvements.')\n",
        "        print('Total duration: ' + str(round((time.time() - start_time), 2))+'s')\n",
        "\n",
        "    def feed_forward(self, input_vector):\n",
        "        \"\"\"Takes a network (Matrix list) and returns the outputs of both\n",
        "         layers by propagating the entry\"\"\"\n",
        "        outputs = []\n",
        "        for layer in self.layers:\n",
        "            input_with_bias = np.append(input_vector, 1)   # initialize bias to 1\n",
        "            output = np.inner(layer, input_with_bias)\n",
        "            output = special.expit(output) # logistic sigmoid\n",
        "            outputs.append(output)\n",
        "            # The output is the input of the next layer\n",
        "            input_vector = output\n",
        "        return outputs\n",
        "\n",
        "    def backpropagate(self, input_vector, target):\n",
        "        \"\"\"Reduce error for one input vector:\n",
        "        Calculating the partial derivatives for each coeff then subtracts\"\"\"\n",
        "        c = 1./(self.iteration + 10)  # Learning coefficient\n",
        "        hidden_outputs, outputs = self.feed_forward(input_vector)\n",
        "\n",
        "        output_deltas = outputs * (1 - outputs) * (outputs - target) # (10, ) vector\n",
        "\n",
        "        hidden_deltas = hidden_outputs * (1 - hidden_outputs) * \\\n",
        "            np.dot(np.delete(self.layers[-1], 300, 1).T, output_deltas) # (10, ) vector\n",
        "        \n",
        "        self.layers[-1] -= c*np.outer(output_deltas, np.append(hidden_outputs, 1)) # (10, 301) \n",
        "        self.layers[0] -= c*np.outer(hidden_deltas, np.append(input_vector, 1)) # (300, 785)\n",
        "\n",
        "    def predict(self, input_vector):\n",
        "        return self.feed_forward(input_vector)[-1]\n",
        "\n",
        "    def predict_one(self, input_vector):\n",
        "        return np.argmax(self.feed_forward(input_vector)[-1]) # 가장 큰 원소의 index 를 반환함.\n",
        "\n",
        "    def sauv(self, file_name=''):\n",
        "        if file_name == '':\n",
        "            file_name = 'nt_'+str(self.accu(TESTING)[0])\n",
        "        sauvfile = self.layers\n",
        "        f = open(file_name, 'wb')\n",
        "        pickle.dump(sauvfile, f)\n",
        "        f.close()\n",
        "\n",
        "    def load(self, file_name):\n",
        "        f = open(file_name, 'rb')\n",
        "        self.layers = pickle.load(f, encoding='latin1')\n",
        "        f.close()\n",
        "\n",
        "    def accu(self, testing):\n",
        "        \"\"\"The lowest precision digit and total\"\"\"\n",
        "        res = np.zeros((10, 2))\n",
        "        for k in range(len(testing[1])):\n",
        "            if self.predict_one(testing[0][k]) == testing[1][k]:\n",
        "                res[testing[1][k]] += 1\n",
        "            else:\n",
        "                res[testing[1][k]][1] += 1\n",
        "        total = np.sum(res, axis=0)\n",
        "        each = [res[k][0]/res[k][1] for k in range(len(res))]\n",
        "        min_c = sorted(range(len(each)), key=lambda k: each[k])[0]\n",
        "        return np.round([each[min_c]*100, total[0]/total[1]*100, min_c], 2)\n",
        "\n"
      ],
      "execution_count": 15,
      "outputs": []
    },
    {
      "cell_type": "markdown",
      "metadata": {
        "id": "3eQ64cIUvsvO"
      },
      "source": [
        "## 4. 신경망 훈련 "
      ]
    },
    {
      "cell_type": "code",
      "metadata": {
        "id": "LoIQbcmmvVIp",
        "colab": {
          "base_uri": "https://localhost:8080/"
        },
        "outputId": "702d92b8-51be-4926-dabd-d6eff7a4f40a"
      },
      "source": [
        "nt1=Network(300) # hidden_size\n",
        "nt1.train(600,TRAINING) # batch_size\n",
        "\n"
      ],
      "execution_count": 16,
      "outputs": [
        {
          "output_type": "stream",
          "text": [
            "Initialization with random weight\n",
            "-----\n",
            "Network training with 600 examples\n",
            "Until convergence (10 iterations without improvements)\n",
            "-----\n",
            "Iteration 01 (05s) Precision G:9.58% Min:00.0% (0)\n",
            "Iteration 02 (09s) Precision G:14.77% Min:00.0% (2)\n",
            "Iteration 03 (13s) Precision G:34.29% Min:00.0% (2)\n",
            "Iteration 04 (17s) Precision G:45.47% Min:00.0% (4)\n",
            "Iteration 05 (21s) Precision G:61.14% Min:00.0% (5)\n",
            "Iteration 06 (26s) Precision G:68.14% Min:00.0% (5)\n",
            "Iteration 07 (30s) Precision G:72.33% Min:1.35% (5) R\n",
            "Iteration 08 (34s) Precision G:74.95% Min:5.38% (5) R\n",
            "Iteration 09 (38s) Precision G:76.76% Min:13.45% (5) R\n",
            "Iteration 10 (42s) Precision G:78.4% Min:24.1% (5) R\n",
            "Iteration 11 (46s) Precision G:79.79% Min:36.21% (5) R\n",
            "Iteration 12 (50s) Precision G:81.01% Min:46.19% (5) R\n",
            "Iteration 13 (54s) Precision G:81.79% Min:52.24% (5) R\n",
            "Iteration 14 (58s) Precision G:82.33% Min:56.17% (5) R\n",
            "Iteration 15 (62s) Precision G:82.97% Min:60.2% (5) R\n",
            "Iteration 16 (65s) Precision G:83.33% Min:61.66% (5) R\n",
            "Iteration 17 (69s) Precision G:83.67% Min:63.9% (5) R\n",
            "Iteration 18 (73s) Precision G:83.93% Min:64.8% (5) R\n",
            "Iteration 19 (77s) Precision G:84.12% Min:65.92% (5) R\n",
            "Iteration 20 (80s) Precision G:84.35% Min:66.48% (5) R\n",
            "Iteration 21 (84s) Precision G:84.45% Min:67.15% (5) R\n",
            "Iteration 22 (88s) Precision G:84.57% Min:68.27% (5) R\n",
            "Iteration 23 (92s) Precision G:84.65% Min:69.28% (5) R\n",
            "Iteration 24 (96s) Precision G:84.68% Min:69.73% (5) R\n",
            "Iteration 25 (99s) Precision G:84.72% Min:70.18% (5) R\n",
            "Iteration 26 (103s) Precision G:84.84% Min:71.19% (5) R\n",
            "Iteration 27 (107s) Precision G:84.9% Min:71.75% (5) R\n",
            "Iteration 28 (110s) Precision G:85.02% Min:72.65% (5) R\n",
            "Iteration 29 (114s) Precision G:85.0% Min:72.87% (5) R\n",
            "Iteration 30 (118s) Precision G:85.1% Min:73.24% (9) R\n",
            "Iteration 31 (122s) Precision G:85.14% Min:73.34% (9) R\n",
            "Iteration 32 (126s) Precision G:85.18% Min:73.54% (9) R\n",
            "Iteration 33 (130s) Precision G:85.24% Min:73.54% (9)\n",
            "Iteration 34 (134s) Precision G:85.24% Min:73.64% (9) R\n",
            "Iteration 35 (138s) Precision G:85.27% Min:73.74% (9) R\n",
            "Iteration 36 (142s) Precision G:85.34% Min:73.93% (9) R\n",
            "Iteration 37 (146s) Precision G:85.38% Min:73.93% (9)\n",
            "Iteration 38 (150s) Precision G:85.41% Min:73.93% (9)\n",
            "Iteration 39 (153s) Precision G:85.47% Min:74.03% (9) R\n",
            "Iteration 40 (157s) Precision G:85.5% Min:73.93% (9)\n",
            "Iteration 41 (161s) Precision G:85.53% Min:74.23% (9) R\n",
            "Iteration 42 (165s) Precision G:85.56% Min:74.43% (9) R\n",
            "Iteration 43 (169s) Precision G:85.61% Min:74.73% (9) R\n",
            "Iteration 44 (173s) Precision G:85.62% Min:74.73% (9)\n",
            "Iteration 45 (177s) Precision G:85.59% Min:74.73% (9)\n",
            "Iteration 46 (181s) Precision G:85.56% Min:74.63% (9)\n",
            "Iteration 47 (185s) Precision G:85.6% Min:74.63% (9)\n",
            "Iteration 48 (189s) Precision G:85.62% Min:74.73% (9)\n",
            "Iteration 49 (192s) Precision G:85.63% Min:75.02% (9) R\n",
            "Iteration 50 (196s) Precision G:85.69% Min:75.32% (9) R\n",
            "Iteration 51 (200s) Precision G:85.67% Min:75.32% (9)\n",
            "Iteration 52 (204s) Precision G:85.66% Min:75.32% (9)\n",
            "Iteration 53 (208s) Precision G:85.66% Min:75.32% (9)\n",
            "Iteration 54 (212s) Precision G:85.7% Min:75.42% (9) R\n",
            "Iteration 55 (216s) Precision G:85.74% Min:75.62% (9) R\n",
            "Iteration 56 (220s) Precision G:85.74% Min:75.62% (9)\n",
            "Iteration 57 (224s) Precision G:85.76% Min:75.72% (9) R\n",
            "Iteration 58 (228s) Precision G:85.76% Min:75.72% (9)\n",
            "Iteration 59 (232s) Precision G:85.77% Min:75.72% (9)\n",
            "Iteration 60 (236s) Precision G:85.75% Min:75.82% (9) R\n",
            "Iteration 61 (240s) Precision G:85.74% Min:75.82% (9)\n",
            "Iteration 62 (243s) Precision G:85.74% Min:75.82% (9)\n",
            "Iteration 63 (247s) Precision G:85.72% Min:75.82% (9)\n",
            "Iteration 64 (251s) Precision G:85.72% Min:75.82% (9)\n",
            "Iteration 65 (255s) Precision G:85.69% Min:75.82% (9)\n",
            "Iteration 66 (259s) Precision G:85.68% Min:75.82% (9)\n",
            "Iteration 67 (263s) Precision G:85.73% Min:76.11% (9) R\n",
            "Iteration 68 (267s) Precision G:85.77% Min:76.21% (9) R\n",
            "Iteration 69 (271s) Precision G:85.77% Min:76.31% (9) R\n",
            "Iteration 70 (275s) Precision G:85.75% Min:76.41% (9) R\n",
            "Iteration 71 (278s) Precision G:85.75% Min:76.61% (9) R\n",
            "Iteration 72 (282s) Precision G:85.76% Min:76.61% (9)\n",
            "Iteration 73 (286s) Precision G:85.77% Min:76.61% (9)\n",
            "Iteration 74 (290s) Precision G:85.79% Min:76.81% (9) R\n",
            "Iteration 75 (294s) Precision G:85.78% Min:76.81% (9)\n",
            "Iteration 76 (298s) Precision G:85.77% Min:76.81% (9)\n",
            "Iteration 77 (302s) Precision G:85.77% Min:76.91% (9) R\n",
            "Iteration 78 (306s) Precision G:85.76% Min:76.91% (9)\n",
            "Iteration 79 (310s) Precision G:85.76% Min:76.91% (9)\n",
            "Iteration 80 (313s) Precision G:85.74% Min:76.91% (9)\n",
            "Iteration 81 (317s) Precision G:85.74% Min:76.91% (9)\n",
            "Iteration 82 (321s) Precision G:85.75% Min:77.01% (9) RS\n",
            "Iteration 83 (325s) Precision G:85.73% Min:76.91% (9)\n",
            "Iteration 84 (329s) Precision G:85.75% Min:77.01% (9)\n",
            "Iteration 85 (333s) Precision G:85.75% Min:77.01% (9)\n",
            "Iteration 86 (337s) Precision G:85.71% Min:77.01% (9)\n",
            "Iteration 87 (341s) Precision G:85.69% Min:77.01% (9)\n",
            "Iteration 88 (345s) Precision G:85.69% Min:77.11% (9) RS\n",
            "Iteration 89 (349s) Precision G:85.68% Min:77.11% (9)\n",
            "Iteration 90 (353s) Precision G:85.67% Min:77.11% (9)\n",
            "Iteration 91 (357s) Precision G:85.69% Min:77.11% (9)\n",
            "Iteration 92 (361s) Precision G:85.69% Min:77.11% (9)\n",
            "Iteration 93 (364s) Precision G:85.68% Min:77.11% (9)\n",
            "Iteration 94 (368s) Precision G:85.68% Min:77.11% (9)\n",
            "Iteration 95 (372s) Precision G:85.7% Min:77.11% (9)\n",
            "Iteration 96 (376s) Precision G:85.73% Min:77.11% (9)\n",
            "Iteration 97 (380s) Precision G:85.72% Min:77.11% (9)\n",
            "Iteration 98 (384s) Precision G:85.72% Min:77.11% (9)\n",
            "10 Iterations without improvements.\n",
            "Total duration: 383.78s\n"
          ],
          "name": "stdout"
        }
      ]
    },
    {
      "cell_type": "code",
      "metadata": {
        "id": "WIZ8LqVQvVIr"
      },
      "source": [
        "WEIGHTS = pickle.load( open( 'ntMIN_[77.11 85.69  9.  ]', \"rb\" ) ) # (300,785) , (10,301)"
      ],
      "execution_count": 17,
      "outputs": []
    },
    {
      "cell_type": "markdown",
      "metadata": {
        "id": "LTptFNhdvoL2"
      },
      "source": [
        "## 5. Loss Surface"
      ]
    },
    {
      "cell_type": "code",
      "metadata": {
        "id": "8yYo5l_IvVIt"
      },
      "source": [
        "def test_nn(WEIGHTS, network, alpha, beta):\n",
        "    \"\"\"Test Network\"\"\"\n",
        "    \n",
        "    np.random.seed(0)\n",
        "    w0 = WEIGHTS[0].flatten()\n",
        "    w1 = WEIGHTS[1].flatten()\n",
        "    nh = w0 + alpha * np.random.rand(len(w0)) + beta * np.random.rand(len(w0))\n",
        "    no = w1 + alpha * np.random.rand(len(w1)) + beta * np.random.rand(len(w1))\n",
        "    \n",
        "    hidden_layer = nh.reshape(WEIGHTS[0].shape)\n",
        "    output_layer = no.reshape(WEIGHTS[1].shape)\n",
        "    network.layers = [hidden_layer, output_layer]\n",
        "        \n",
        "    ok, nb = 0, 10000\n",
        "    for k in range(nb):\n",
        "        if network.predict_one(TESTING[0][k]) == TESTING[1][k]:\n",
        "            ok += 1\n",
        "    return 100 - round((ok*100./nb), 1)\n",
        "\n"
      ],
      "execution_count": 18,
      "outputs": []
    },
    {
      "cell_type": "code",
      "metadata": {
        "id": "mXNJeeCCvVIv",
        "colab": {
          "base_uri": "https://localhost:8080/",
          "height": 475
        },
        "outputId": "b35a4d4a-55bb-43e6-9323-9663b27200e4"
      },
      "source": [
        "ms = np.linspace(-1.0, 1.0, 10)\n",
        "bs = np.linspace(-1.0, 1.0, 10)\n",
        "\n",
        "M, B = np.meshgrid(ms, bs)\n",
        "\n",
        "zs = np.array([test_nn(WEIGHTS, nt1, alpha, beta) \n",
        "               for alpha, beta in zip(np.ravel(M), np.ravel(B))])\n",
        "\n",
        "Z = zs.reshape(M.shape)\n",
        "\n",
        "fig = plt.figure()\n",
        "ax = fig.add_subplot(111, projection='3d')\n",
        "surf = ax.plot_surface(M, B, Z, rstride=1, cstride=1, cmap=cm.coolwarm, alpha=0.5)\n",
        "\n",
        "# ax.set_xlabel('m')\n",
        "# ax.set_ylabel('b')\n",
        "# ax.set_zlabel('error')\n",
        "# Add a color bar which maps values to colors.\n",
        "fig.colorbar(surf, shrink=0.5, aspect=5)\n",
        "plt.show()"
      ],
      "execution_count": 19,
      "outputs": [
        {
          "output_type": "error",
          "ename": "NameError",
          "evalue": "ignored",
          "traceback": [
            "\u001b[0;31m---------------------------------------------------------------------------\u001b[0m",
            "\u001b[0;31mNameError\u001b[0m                                 Traceback (most recent call last)",
            "\u001b[0;32m<ipython-input-19-a7dcc573101f>\u001b[0m in \u001b[0;36m<module>\u001b[0;34m()\u001b[0m\n\u001b[1;32m     11\u001b[0m \u001b[0mfig\u001b[0m \u001b[0;34m=\u001b[0m \u001b[0mplt\u001b[0m\u001b[0;34m.\u001b[0m\u001b[0mfigure\u001b[0m\u001b[0;34m(\u001b[0m\u001b[0;34m)\u001b[0m\u001b[0;34m\u001b[0m\u001b[0;34m\u001b[0m\u001b[0m\n\u001b[1;32m     12\u001b[0m \u001b[0max\u001b[0m \u001b[0;34m=\u001b[0m \u001b[0mfig\u001b[0m\u001b[0;34m.\u001b[0m\u001b[0madd_subplot\u001b[0m\u001b[0;34m(\u001b[0m\u001b[0;36m111\u001b[0m\u001b[0;34m,\u001b[0m \u001b[0mprojection\u001b[0m\u001b[0;34m=\u001b[0m\u001b[0;34m'3d'\u001b[0m\u001b[0;34m)\u001b[0m\u001b[0;34m\u001b[0m\u001b[0;34m\u001b[0m\u001b[0m\n\u001b[0;32m---> 13\u001b[0;31m \u001b[0msurf\u001b[0m \u001b[0;34m=\u001b[0m \u001b[0max\u001b[0m\u001b[0;34m.\u001b[0m\u001b[0mplot_surface\u001b[0m\u001b[0;34m(\u001b[0m\u001b[0mM\u001b[0m\u001b[0;34m,\u001b[0m \u001b[0mB\u001b[0m\u001b[0;34m,\u001b[0m \u001b[0mZ\u001b[0m\u001b[0;34m,\u001b[0m \u001b[0mrstride\u001b[0m\u001b[0;34m=\u001b[0m\u001b[0;36m1\u001b[0m\u001b[0;34m,\u001b[0m \u001b[0mcstride\u001b[0m\u001b[0;34m=\u001b[0m\u001b[0;36m1\u001b[0m\u001b[0;34m,\u001b[0m \u001b[0mcmap\u001b[0m\u001b[0;34m=\u001b[0m\u001b[0mcm\u001b[0m\u001b[0;34m.\u001b[0m\u001b[0mcoolwarm\u001b[0m\u001b[0;34m,\u001b[0m \u001b[0malpha\u001b[0m\u001b[0;34m=\u001b[0m\u001b[0;36m0.5\u001b[0m\u001b[0;34m)\u001b[0m\u001b[0;34m\u001b[0m\u001b[0;34m\u001b[0m\u001b[0m\n\u001b[0m\u001b[1;32m     14\u001b[0m \u001b[0;34m\u001b[0m\u001b[0m\n\u001b[1;32m     15\u001b[0m \u001b[0;31m# ax.set_xlabel('m')\u001b[0m\u001b[0;34m\u001b[0m\u001b[0;34m\u001b[0m\u001b[0;34m\u001b[0m\u001b[0m\n",
            "\u001b[0;31mNameError\u001b[0m: name 'cm' is not defined"
          ]
        },
        {
          "output_type": "display_data",
          "data": {
            "image/png": "[encoded data removed]",
            "text/plain": [
              "<Figure size 432x288 with 1 Axes>"
            ]
          },
          "metadata": {
            "tags": [],
            "needs_background": "light"
          }
        }
      ]
    },
    {
      "cell_type": "code",
      "metadata": {
        "id": "uyfpTSh5vVIx"
      },
      "source": [
        "fig = plt.figure()\n",
        "ax = fig.add_subplot(111, projection='3d')\n",
        "ax.contour(M, B, Z)\n",
        "plt.show()"
      ],
      "execution_count": null,
      "outputs": []
    },
    {
      "cell_type": "code",
      "metadata": {
        "id": "a_B0yqt4vVIz"
      },
      "source": [
        "from mpl_toolkits.mplot3d import axes3d\n",
        "import matplotlib.pyplot as plt\n",
        "from matplotlib import cm\n",
        "\n",
        "# X, Y, Z = axes3d.get_test_data(0.05)\n",
        "\n",
        "plt.subplot(131)\n",
        "cset = plt.contourf(M, B, Z, cmap=cm.coolwarm)\n",
        "plt.subplot(132)\n",
        "cset = plt.contourf(B, Z, M, cmap=cm.coolwarm)\n",
        "plt.subplot(133)\n",
        "cset = plt.contourf(M, Z, B, cmap=cm.coolwarm)\n",
        "\n",
        "plt.show()"
      ],
      "execution_count": null,
      "outputs": []
    }
  ]
}