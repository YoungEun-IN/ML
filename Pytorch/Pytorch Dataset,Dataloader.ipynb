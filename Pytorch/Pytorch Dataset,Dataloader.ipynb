{
 "cells": [
  {
   "cell_type": "code",
   "execution_count": 16,
   "id": "1ab2820c",
   "metadata": {},
   "outputs": [],
   "source": [
    "from torch.utils.data import Dataset\n",
    "import torch\n",
    "\n",
    "class CustomDataset(torch.utils.data.Dataset):\n",
    "    def __init__(self):\n",
    "        self.x_data = X_train\n",
    "        self.y_data = y_train\n",
    "\n",
    "    def __len__(self):\n",
    "        return len(self.x_data)\n",
    "\n",
    "    def __getitem__(self, idx):\n",
    "        x = torch.FloatTensor(self.x_data[idx])\n",
    "        y = torch.FloatTensor(self.y_data[idx])\n",
    "\n",
    "        return x,y"
   ]
  },
  {
   "cell_type": "code",
   "execution_count": 17,
   "id": "ced734ce",
   "metadata": {},
   "outputs": [],
   "source": [
    "class MultivariateLinearRegressionModel(torch.nn.Module):\n",
    "    def __init__(self):\n",
    "        super().__init__()\n",
    "        self.linear = torch.nn.Linear(3, 1)\n",
    "\n",
    "    def forward(self, x):\n",
    "        return self.linear(x)"
   ]
  },
  {
   "cell_type": "code",
   "execution_count": 18,
   "id": "153ce66d",
   "metadata": {},
   "outputs": [],
   "source": [
    "X_train = torch.FloatTensor([[73, 80, 75],\n",
    "                             [93, 88, 93],\n",
    "                             [89, 91, 90],\n",
    "                             [96, 98, 100],\n",
    "                             [73, 66, 70]])\n",
    "y_train = torch.FloatTensor([[152], [185], [180], [196], [142]])\n",
    "\n",
    "dataset = CustomDataset()"
   ]
  },
  {
   "cell_type": "code",
   "execution_count": 19,
   "id": "5ad213c1",
   "metadata": {},
   "outputs": [],
   "source": [
    "dataloader = torch.utils.data.DataLoader(dataset, batch_size=4, shuffle=True)"
   ]
  },
  {
   "cell_type": "code",
   "execution_count": 20,
   "id": "f3dee951",
   "metadata": {},
   "outputs": [
    {
     "name": "stdout",
     "output_type": "stream",
     "text": [
      "Epoch    0/20 Batch 1/2 Cost: 44433.562500\n",
      "Epoch    0/20 Batch 2/2 Cost: 16175.592773\n",
      "Epoch    1/20 Batch 1/2 Cost: 4188.037109\n",
      "Epoch    1/20 Batch 2/2 Cost: 880.286133\n",
      "Epoch    2/20 Batch 1/2 Cost: 489.817078\n",
      "Epoch    2/20 Batch 2/2 Cost: 153.434586\n",
      "Epoch    3/20 Batch 1/2 Cost: 49.905399\n",
      "Epoch    3/20 Batch 2/2 Cost: 10.130800\n",
      "Epoch    4/20 Batch 1/2 Cost: 7.554193\n",
      "Epoch    4/20 Batch 2/2 Cost: 0.615919\n",
      "Epoch    5/20 Batch 1/2 Cost: 2.473441\n",
      "Epoch    5/20 Batch 2/2 Cost: 0.011638\n",
      "Epoch    6/20 Batch 1/2 Cost: 1.700450\n",
      "Epoch    6/20 Batch 2/2 Cost: 0.016656\n",
      "Epoch    7/20 Batch 1/2 Cost: 1.474542\n",
      "Epoch    7/20 Batch 2/2 Cost: 0.604572\n",
      "Epoch    8/20 Batch 1/2 Cost: 1.167296\n",
      "Epoch    8/20 Batch 2/2 Cost: 1.898312\n",
      "Epoch    9/20 Batch 1/2 Cost: 1.505973\n",
      "Epoch    9/20 Batch 2/2 Cost: 0.219855\n",
      "Epoch   10/20 Batch 1/2 Cost: 1.148008\n",
      "Epoch   10/20 Batch 2/2 Cost: 1.705436\n",
      "Epoch   11/20 Batch 1/2 Cost: 1.202367\n",
      "Epoch   11/20 Batch 2/2 Cost: 2.077476\n",
      "Epoch   12/20 Batch 1/2 Cost: 1.489293\n",
      "Epoch   12/20 Batch 2/2 Cost: 0.204355\n",
      "Epoch   13/20 Batch 1/2 Cost: 0.763445\n",
      "Epoch   13/20 Batch 2/2 Cost: 3.254584\n",
      "Epoch   14/20 Batch 1/2 Cost: 1.050353\n",
      "Epoch   14/20 Batch 2/2 Cost: 2.677899\n",
      "Epoch   15/20 Batch 1/2 Cost: 1.157879\n",
      "Epoch   15/20 Batch 2/2 Cost: 1.859077\n",
      "Epoch   16/20 Batch 1/2 Cost: 1.033013\n",
      "Epoch   16/20 Batch 2/2 Cost: 2.263386\n",
      "Epoch   17/20 Batch 1/2 Cost: 1.672650\n",
      "Epoch   17/20 Batch 2/2 Cost: 0.437541\n",
      "Epoch   18/20 Batch 1/2 Cost: 0.680118\n",
      "Epoch   18/20 Batch 2/2 Cost: 3.975684\n",
      "Epoch   19/20 Batch 1/2 Cost: 1.028215\n",
      "Epoch   19/20 Batch 2/2 Cost: 2.310135\n",
      "Epoch   20/20 Batch 1/2 Cost: 1.661206\n",
      "Epoch   20/20 Batch 2/2 Cost: 0.441668\n"
     ]
    },
    {
     "data": {
      "text/plain": [
       "OrderedDict([('linear.weight', tensor([[0.6825, 0.5893, 0.7368]])),\n",
       "             ('linear.bias', tensor([-0.3375]))])"
      ]
     },
     "execution_count": 20,
     "metadata": {},
     "output_type": "execute_result"
    }
   ],
   "source": [
    "# model\n",
    "model = MultivariateLinearRegressionModel()\n",
    "\n",
    "# optimizer\n",
    "optimizer = torch.optim.SGD(model.parameters(), lr=1e-5)\n",
    "\n",
    "n_epochs = 20\n",
    "for epoch in range(n_epochs+1):\n",
    "    for batch_idx, samples in enumerate(dataloader):\n",
    "        X_train, y_train = samples\n",
    "\n",
    "        # H(x)\n",
    "        prediction = model(X_train)\n",
    "\n",
    "        # cost\n",
    "        cost = torch.nn.functional.mse_loss(prediction, y_train)\n",
    "\n",
    "        # updating weights\n",
    "        optimizer.zero_grad()\n",
    "        cost.backward()\n",
    "        optimizer.step()\n",
    "\n",
    "        # print\n",
    "        print('Epoch {:4d}/{} Batch {}/{} Cost: {:.6f}'.format(\n",
    "            epoch, n_epochs, batch_idx+1, len(dataloader), cost.item()\n",
    "        ))\n",
    "\n",
    "# parameters\n",
    "model.state_dict()"
   ]
  },
  {
   "cell_type": "code",
   "execution_count": null,
   "id": "548f9abd",
   "metadata": {},
   "outputs": [],
   "source": []
  }
 ],
 "metadata": {
  "kernelspec": {
   "display_name": "Python 3",
   "language": "python",
   "name": "python3"
  },
  "language_info": {
   "codemirror_mode": {
    "name": "ipython",
    "version": 3
   },
   "file_extension": ".py",
   "mimetype": "text/x-python",
   "name": "python",
   "nbconvert_exporter": "python",
   "pygments_lexer": "ipython3",
   "version": "3.6.13"
  }
 },
 "nbformat": 4,
 "nbformat_minor": 5
}
